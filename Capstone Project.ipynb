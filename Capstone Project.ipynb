{
    "cells": [
        {
            "metadata": {
                "collapsed": true
            },
            "cell_type": "markdown",
            "source": "# IBM Data Science Coursera Capstone Project"
        },
        {
            "metadata": {},
            "cell_type": "markdown",
            "source": "## Battle of the Neighborhoods - Houston Cuisine"
        },
        {
            "metadata": {},
            "cell_type": "markdown",
            "source": "### Introduction"
        },
        {
            "metadata": {},
            "cell_type": "markdown",
            "source": "This jupyter notebook will be used for the Applied Data Science Coursera Capstone Project. "
        },
        {
            "metadata": {},
            "cell_type": "markdown",
            "source": "A client is looking to open a restaurant in Houston and is interested in which location they should open it. Because of the ethnic diversity, Houston\u2019s the restaurant industry is thriving. Many other factors contribute to the growing restaurant scene including Houston\u2019s proximity to Latin America, it\u2019s role as a port city, the population size, and lack of zoning laws. The lack of zoning laws allow businesses to easily open with fewer regulations and permits where land is less expensive. The large population of greater Houston provides restaurants with a large customer base and allows niche restaurants to receive support from the population. Because of these factors, the Houston restaurant scene is quite competitive  and restaurants of lower quality often go out of the business leaving higher quality. \n\nHouston has a myriad of neighborhoods and suburbs where our client can open up their restaurant. Our client is a national company looking to expand their restaurant reach into Houston with of opening up multiple restaurants in Houston. They have come to us to provide a recommendation on which neighborhood they should open up their first restaurant in and what cuisine they should serve. \n"
        },
        {
            "metadata": {},
            "cell_type": "markdown",
            "source": "### Data"
        },
        {
            "metadata": {},
            "cell_type": "markdown",
            "source": "For this project, I will be utilizing the Foursquare location data to provide information on neighborhoods, venues, restaurant ratings and location data. We can utilize the Foursquare data to pin point areas or clusters with restaurants with large engagement, high ratings and reviews. The Foursquare data can also be used to understand density of population of the neighborhoods and the restaurants within them. \n\nIn addition to the Foursquare data, I will also be looking at Houston neighborhood data and Houston zip code data. These two data sets can be used in conjunction to pinpoint which neighborhood certain restaurants are located in. \n"
        }
    ],
    "metadata": {
        "kernelspec": {
            "name": "python3",
            "display_name": "Python 3.7",
            "language": "python"
        },
        "language_info": {
            "name": "python",
            "version": "3.7.10",
            "mimetype": "text/x-python",
            "codemirror_mode": {
                "name": "ipython",
                "version": 3
            },
            "pygments_lexer": "ipython3",
            "nbconvert_exporter": "python",
            "file_extension": ".py"
        }
    },
    "nbformat": 4,
    "nbformat_minor": 1
}